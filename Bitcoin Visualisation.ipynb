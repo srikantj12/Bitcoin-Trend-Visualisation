{
 "cells": [
  {
   "cell_type": "markdown",
   "metadata": {},
   "source": [
    "# The Bitcoin Episode"
   ]
  },
  {
   "cell_type": "code",
   "execution_count": 1,
   "metadata": {},
   "outputs": [],
   "source": [
    "import numpy\n",
    "import pandas as pd"
   ]
  },
  {
   "cell_type": "code",
   "execution_count": 2,
   "metadata": {},
   "outputs": [],
   "source": [
    "%matplotlib inline"
   ]
  },
  {
   "cell_type": "code",
   "execution_count": 3,
   "metadata": {},
   "outputs": [],
   "source": [
    "def CryptoData(symbol, frequency):\n",
    "    url = 'https://poloniex.com/public?command=returnChartData&currencyPair='+symbol+'&end=9999999999&period='+str(frequency)+'&start=0'\n",
    "    print(url)\n",
    "    df = pd.read_json(url) #Retrieves json data stores it in df\n",
    "    #Reordering the columns in ohlc form\n",
    "    df = df[['date', 'open', 'high', 'low', 'close', 'quoteVolume', 'volume', 'weightedAverage']]\n",
    "    df.set_index('date', inplace=True)\n",
    "    #Removing high values < opening values. Either method works, df.query doesn't when spaces are present in column names\n",
    "    #df = df.query('high > open')\n",
    "    df = df[df.high > df.open]\n",
    "    df.to_csv('BitcoinUSD.csv') # Store in Bitcoin.csv\n",
    "    \n",
    "    \n",
    "    return df"
   ]
  },
  {
   "cell_type": "code",
   "execution_count": 4,
   "metadata": {},
   "outputs": [],
   "source": [
    "#df = CryptoData('USDT_BTC', 86400)\n",
    "#close tells python to store the only 'closing' prices data to df.\n",
    "\n",
    "df = pd.read_csv('BitcoinUSD.csv')\n"
   ]
  },
  {
   "cell_type": "code",
   "execution_count": 5,
   "metadata": {},
   "outputs": [
    {
     "data": {
      "text/html": [
       "<div>\n",
       "<style scoped>\n",
       "    .dataframe tbody tr th:only-of-type {\n",
       "        vertical-align: middle;\n",
       "    }\n",
       "\n",
       "    .dataframe tbody tr th {\n",
       "        vertical-align: top;\n",
       "    }\n",
       "\n",
       "    .dataframe thead th {\n",
       "        text-align: right;\n",
       "    }\n",
       "</style>\n",
       "<table border=\"1\" class=\"dataframe\">\n",
       "  <thead>\n",
       "    <tr style=\"text-align: right;\">\n",
       "      <th></th>\n",
       "      <th>date</th>\n",
       "      <th>open</th>\n",
       "      <th>high</th>\n",
       "      <th>low</th>\n",
       "      <th>close</th>\n",
       "      <th>quoteVolume</th>\n",
       "      <th>volume</th>\n",
       "      <th>weightedAverage</th>\n",
       "    </tr>\n",
       "  </thead>\n",
       "  <tbody>\n",
       "    <tr>\n",
       "      <th>964</th>\n",
       "      <td>2017-12-05</td>\n",
       "      <td>11600.000000</td>\n",
       "      <td>11867.00</td>\n",
       "      <td>11411.707415</td>\n",
       "      <td>11665.138756</td>\n",
       "      <td>4869.061174</td>\n",
       "      <td>5.678390e+07</td>\n",
       "      <td>11662.187078</td>\n",
       "    </tr>\n",
       "    <tr>\n",
       "      <th>965</th>\n",
       "      <td>2017-12-06</td>\n",
       "      <td>11665.138756</td>\n",
       "      <td>13666.00</td>\n",
       "      <td>11641.000000</td>\n",
       "      <td>13580.905388</td>\n",
       "      <td>11194.928898</td>\n",
       "      <td>1.412979e+08</td>\n",
       "      <td>12621.597626</td>\n",
       "    </tr>\n",
       "    <tr>\n",
       "      <th>966</th>\n",
       "      <td>2017-12-07</td>\n",
       "      <td>13580.905388</td>\n",
       "      <td>16672.00</td>\n",
       "      <td>13092.272855</td>\n",
       "      <td>16563.507434</td>\n",
       "      <td>16534.348507</td>\n",
       "      <td>2.441697e+08</td>\n",
       "      <td>14767.421319</td>\n",
       "    </tr>\n",
       "    <tr>\n",
       "      <th>967</th>\n",
       "      <td>2017-12-08</td>\n",
       "      <td>16563.507434</td>\n",
       "      <td>17200.00</td>\n",
       "      <td>13900.000000</td>\n",
       "      <td>15847.678031</td>\n",
       "      <td>14970.350924</td>\n",
       "      <td>2.304207e+08</td>\n",
       "      <td>15391.800332</td>\n",
       "    </tr>\n",
       "    <tr>\n",
       "      <th>968</th>\n",
       "      <td>2017-12-09</td>\n",
       "      <td>15847.678031</td>\n",
       "      <td>16234.14</td>\n",
       "      <td>12919.000000</td>\n",
       "      <td>14785.000000</td>\n",
       "      <td>9153.268007</td>\n",
       "      <td>1.317163e+08</td>\n",
       "      <td>14390.081700</td>\n",
       "    </tr>\n",
       "  </tbody>\n",
       "</table>\n",
       "</div>"
      ],
      "text/plain": [
       "           date          open      high           low         close  \\\n",
       "964  2017-12-05  11600.000000  11867.00  11411.707415  11665.138756   \n",
       "965  2017-12-06  11665.138756  13666.00  11641.000000  13580.905388   \n",
       "966  2017-12-07  13580.905388  16672.00  13092.272855  16563.507434   \n",
       "967  2017-12-08  16563.507434  17200.00  13900.000000  15847.678031   \n",
       "968  2017-12-09  15847.678031  16234.14  12919.000000  14785.000000   \n",
       "\n",
       "      quoteVolume        volume  weightedAverage  \n",
       "964   4869.061174  5.678390e+07     11662.187078  \n",
       "965  11194.928898  1.412979e+08     12621.597626  \n",
       "966  16534.348507  2.441697e+08     14767.421319  \n",
       "967  14970.350924  2.304207e+08     15391.800332  \n",
       "968   9153.268007  1.317163e+08     14390.081700  "
      ]
     },
     "execution_count": 5,
     "metadata": {},
     "output_type": "execute_result"
    }
   ],
   "source": [
    "df.tail()"
   ]
  },
  {
   "cell_type": "code",
   "execution_count": 6,
   "metadata": {},
   "outputs": [
    {
     "data": {
      "text/html": [
       "<div>\n",
       "<style scoped>\n",
       "    .dataframe tbody tr th:only-of-type {\n",
       "        vertical-align: middle;\n",
       "    }\n",
       "\n",
       "    .dataframe tbody tr th {\n",
       "        vertical-align: top;\n",
       "    }\n",
       "\n",
       "    .dataframe thead th {\n",
       "        text-align: right;\n",
       "    }\n",
       "</style>\n",
       "<table border=\"1\" class=\"dataframe\">\n",
       "  <thead>\n",
       "    <tr style=\"text-align: right;\">\n",
       "      <th></th>\n",
       "      <th>date</th>\n",
       "      <th>open</th>\n",
       "      <th>high</th>\n",
       "      <th>low</th>\n",
       "      <th>close</th>\n",
       "      <th>quoteVolume</th>\n",
       "      <th>volume</th>\n",
       "      <th>weightedAverage</th>\n",
       "    </tr>\n",
       "  </thead>\n",
       "  <tbody>\n",
       "    <tr>\n",
       "      <th>0</th>\n",
       "      <td>2015-02-20</td>\n",
       "      <td>240.250118</td>\n",
       "      <td>245.000</td>\n",
       "      <td>240.25</td>\n",
       "      <td>240.25</td>\n",
       "      <td>0.230429</td>\n",
       "      <td>55.894897</td>\n",
       "      <td>242.568479</td>\n",
       "    </tr>\n",
       "    <tr>\n",
       "      <th>1</th>\n",
       "      <td>2015-02-22</td>\n",
       "      <td>245.000000</td>\n",
       "      <td>249.000</td>\n",
       "      <td>235.00</td>\n",
       "      <td>235.00</td>\n",
       "      <td>0.539055</td>\n",
       "      <td>129.121248</td>\n",
       "      <td>239.532608</td>\n",
       "    </tr>\n",
       "    <tr>\n",
       "      <th>2</th>\n",
       "      <td>2015-02-23</td>\n",
       "      <td>235.000002</td>\n",
       "      <td>235.001</td>\n",
       "      <td>235.00</td>\n",
       "      <td>235.00</td>\n",
       "      <td>0.410926</td>\n",
       "      <td>96.567562</td>\n",
       "      <td>235.000062</td>\n",
       "    </tr>\n",
       "    <tr>\n",
       "      <th>3</th>\n",
       "      <td>2015-02-24</td>\n",
       "      <td>235.000000</td>\n",
       "      <td>239.750</td>\n",
       "      <td>235.00</td>\n",
       "      <td>239.75</td>\n",
       "      <td>0.626749</td>\n",
       "      <td>149.154393</td>\n",
       "      <td>237.981177</td>\n",
       "    </tr>\n",
       "    <tr>\n",
       "      <th>4</th>\n",
       "      <td>2015-02-26</td>\n",
       "      <td>237.750000</td>\n",
       "      <td>239.800</td>\n",
       "      <td>237.75</td>\n",
       "      <td>238.50</td>\n",
       "      <td>0.000650</td>\n",
       "      <td>0.155488</td>\n",
       "      <td>239.116563</td>\n",
       "    </tr>\n",
       "  </tbody>\n",
       "</table>\n",
       "</div>"
      ],
      "text/plain": [
       "         date        open     high     low   close  quoteVolume      volume  \\\n",
       "0  2015-02-20  240.250118  245.000  240.25  240.25     0.230429   55.894897   \n",
       "1  2015-02-22  245.000000  249.000  235.00  235.00     0.539055  129.121248   \n",
       "2  2015-02-23  235.000002  235.001  235.00  235.00     0.410926   96.567562   \n",
       "3  2015-02-24  235.000000  239.750  235.00  239.75     0.626749  149.154393   \n",
       "4  2015-02-26  237.750000  239.800  237.75  238.50     0.000650    0.155488   \n",
       "\n",
       "   weightedAverage  \n",
       "0       242.568479  \n",
       "1       239.532608  \n",
       "2       235.000062  \n",
       "3       237.981177  \n",
       "4       239.116563  "
      ]
     },
     "execution_count": 6,
     "metadata": {},
     "output_type": "execute_result"
    }
   ],
   "source": [
    "df.head()"
   ]
  },
  {
   "cell_type": "code",
   "execution_count": 7,
   "metadata": {},
   "outputs": [
    {
     "data": {
      "text/plain": [
       "<matplotlib.axes._subplots.AxesSubplot at 0x9684af0>"
      ]
     },
     "execution_count": 7,
     "metadata": {},
     "output_type": "execute_result"
    },
    {
     "data": {
      "image/png": "[encoded data removed]",
      "text/plain": [
       "<matplotlib.figure.Figure at 0x9684730>"
      ]
     },
     "metadata": {},
     "output_type": "display_data"
    }
   ],
   "source": [
    "df.plot()"
   ]
  },
  {
   "cell_type": "markdown",
   "metadata": {},
   "source": [
    "### Time Series"
   ]
  },
  {
   "cell_type": "code",
   "execution_count": 8,
   "metadata": {},
   "outputs": [
    {
     "data": {
      "text/html": [
       "<iframe id=\"igraph\" scrolling=\"no\" style=\"border:none;\" seamless=\"seamless\" src=\"https://plot.ly/~srikantj12/49.embed\" height=\"525px\" width=\"100%\"></iframe>"
      ],
      "text/plain": [
       "<plotly.tools.PlotlyDisplay object>"
      ]
     },
     "execution_count": 8,
     "metadata": {},
     "output_type": "execute_result"
    }
   ],
   "source": [
    "import plotly.plotly as py\n",
    "import plotly.graph_objs as go\n",
    "\n",
    "# Create a trace\n",
    "trace = go.Scatter(\n",
    "    x = df.index,\n",
    "    y = df['close']\n",
    ")\n",
    "\n",
    "data = [trace]\n",
    "\n",
    "py.iplot(data, filename='Bitcoin Closing Prices')"
   ]
  },
  {
   "cell_type": "markdown",
   "metadata": {},
   "source": [
    "### OHLC chart"
   ]
  },
  {
   "cell_type": "code",
   "execution_count": 9,
   "metadata": {},
   "outputs": [
    {
     "name": "stderr",
     "output_type": "stream",
     "text": [
      "C:\\Users\\admin\\AppData\\Local\\Programs\\Python\\Python36-32\\lib\\site-packages\\plotly\\tools.py:1422: UserWarning:\n",
      "\n",
      "plotly.tools.FigureFactory.create_ohlc is deprecated. Use plotly.figure_factory.create_ohlc\n",
      "\n"
     ]
    },
    {
     "data": {
      "text/html": [
       "<iframe id=\"igraph\" scrolling=\"no\" style=\"border:none;\" seamless=\"seamless\" src=\"https://plot.ly/~srikantj12/2.embed\" height=\"525px\" width=\"100%\"></iframe>"
      ],
      "text/plain": [
       "<plotly.tools.PlotlyDisplay object>"
      ]
     },
     "execution_count": 9,
     "metadata": {},
     "output_type": "execute_result"
    }
   ],
   "source": [
    "import plotly.plotly as py\n",
    "from plotly.tools import FigureFactory as FF\n",
    "from datetime import datetime\n",
    "\n",
    "\n",
    "fig = FF.create_ohlc(df.loc[:,'open'], df.loc[:,'high'], df.loc[:,'low'], df.loc[:,'close'], dates=df.index)\n",
    "\n",
    "fig['layout'].update({\n",
    "    'title': 'The rise of Bitcoin',\n",
    "    'yaxis': {'title': 'Bitcoin in USD'}    \n",
    "    })\n",
    "\n",
    "py.iplot(fig, filename='financeBTC-OHLC')\n",
    "\n"
   ]
  },
  {
   "cell_type": "markdown",
   "metadata": {},
   "source": [
    "### Rise of Bitcoin in the last quarter of 2017 "
   ]
  },
  {
   "cell_type": "markdown",
   "metadata": {},
   "source": []
  },
  {
   "cell_type": "code",
   "execution_count": 10,
   "metadata": {},
   "outputs": [
    {
     "name": "stdout",
     "output_type": "stream",
     "text": [
      "                    open          high           low         close  \\\n",
      "date                                                                 \n",
      "2017-10-02   4412.793486   4487.000000   4358.000000   4401.000000   \n",
      "2017-10-03   4401.000000   4434.012340   4216.000000   4308.880000   \n",
      "2017-10-04   4311.053418   4350.835757   4173.305600   4213.300426   \n",
      "2017-10-05   4213.300426   4368.586923   4131.000000   4317.065471   \n",
      "2017-10-06   4317.065471   4423.754926   4298.320000   4371.636239   \n",
      "2017-10-07   4371.636239   4480.000000   4314.000000   4440.000000   \n",
      "2017-10-08   4440.000000   4633.392258   4420.716044   4611.000000   \n",
      "2017-10-09   4617.757573   4888.000000   4553.126404   4787.657550   \n",
      "2017-10-10   4782.869892   4939.130000   4714.832729   4770.000000   \n",
      "2017-10-11   4770.000000   4875.478502   4720.000000   4820.000000   \n",
      "2017-10-12   4826.000000   5444.367500   4820.000000   5441.554600   \n",
      "2017-10-13   5444.367500   5862.000000   5385.600000   5646.629144   \n",
      "2017-10-14   5646.811058   5850.000000   5560.176205   5832.725500   \n",
      "2017-10-15   5840.000000   5880.870000   5434.140000   5715.000000   \n",
      "2017-10-16   5715.000000   5800.000000   5565.000000   5765.000000   \n",
      "2017-10-17   5765.000000   5780.107655   5512.684474   5609.387018   \n",
      "2017-10-19   5569.649533   5737.909181   5495.865433   5696.654871   \n",
      "2017-10-20   5696.654871   6095.000000   5600.090568   5992.000000   \n",
      "2017-10-21   5990.000000   6180.000000   5865.000000   6009.338644   \n",
      "2017-10-22   6009.338644   6070.000000   5707.361803   5963.684340   \n",
      "2017-10-23   5975.000000   6059.000000   5500.000000   5900.000000   \n",
      "2017-10-25   5500.000000   5745.000000   5362.390000   5709.310000   \n",
      "2017-10-26   5709.310000   5968.000000   5669.104700   5880.000000   \n",
      "2017-10-27   5882.000000   5999.002010   5683.184412   5756.511784   \n",
      "2017-10-28   5756.511784   5870.320001   5641.000000   5719.000000   \n",
      "2017-10-29   5719.000000   6248.630000   5670.000000   6155.000000   \n",
      "2017-10-30   6155.000000   6246.075000   6004.397421   6125.000000   \n",
      "2017-10-31   6121.351907   6475.440077   6091.090000   6450.021628   \n",
      "2017-11-01   6455.000000   6739.791199   6351.000000   6739.791199   \n",
      "2017-11-02   6739.791199   7281.428000   6607.302968   7025.000000   \n",
      "...                  ...           ...           ...           ...   \n",
      "2017-11-10   7020.000000   7277.392000   6315.000000   6543.204218   \n",
      "2017-11-11   6544.440401   6800.000000   6150.000000   6300.000000   \n",
      "2017-11-12   6319.000000   6549.000000   5151.000000   5835.000000   \n",
      "2017-11-13   5840.545884   6701.985325   5773.222563   6475.778637   \n",
      "2017-11-14   6478.000000   6688.000000   6299.358928   6554.918265   \n",
      "2017-11-15   6554.918265   7298.350000   6554.918265   7275.119200   \n",
      "2017-11-16   7275.119200   7980.000000   7082.128623   7858.001000   \n",
      "2017-11-17   7858.999000   8022.000000   7511.000000   7687.510115   \n",
      "2017-11-18   7687.510115   7855.180018   7413.000000   7770.000000   \n",
      "2017-11-19   7768.383431   8131.298873   7650.000000   8060.000000   \n",
      "2017-11-20   8076.499667   8299.754000   7951.000000   8249.000000   \n",
      "2017-11-21   8249.000000   8389.167000   7807.000000   8107.000000   \n",
      "2017-11-22   8107.000000   8319.000000   8077.824403   8213.645565   \n",
      "2017-11-23   8213.645565   8268.314000   8000.000000   8000.000000   \n",
      "2017-11-24   8000.000000   8338.580613   7890.000000   8168.000010   \n",
      "2017-11-25   8190.000500   8709.999999   8144.523625   8709.000000   \n",
      "2017-11-26   8709.000000   9350.000000   8683.000000   9284.336588   \n",
      "2017-11-27   9284.336588   9730.000000   9211.000000   9711.000000   \n",
      "2017-11-28   9711.000000   9951.427662   9600.000000   9879.968759   \n",
      "2017-11-29   9882.098660  11447.095532   8700.000000   9702.000000   \n",
      "2017-11-30   9731.000000  10570.100000   8861.000000   9907.676820   \n",
      "2017-12-01   9907.760000  10829.585001   9350.300000  10699.888888   \n",
      "2017-12-02  10699.888888  11197.808960  10595.005152  10895.786282   \n",
      "2017-12-03  10895.786282  11847.881721  10465.000000  11175.000000   \n",
      "2017-12-04  11175.000000  11600.000000  10800.824600  11600.000000   \n",
      "2017-12-05  11600.000000  11867.000000  11411.707415  11665.138756   \n",
      "2017-12-06  11665.138756  13666.000000  11641.000000  13580.905388   \n",
      "2017-12-07  13580.905388  16672.000000  13092.272855  16563.507434   \n",
      "2017-12-08  16563.507434  17200.000000  13900.000000  15847.678031   \n",
      "2017-12-09  15847.678031  16234.140000  12919.000000  14785.000000   \n",
      "\n",
      "             quoteVolume        volume  weightedAverage  \n",
      "date                                                     \n",
      "2017-10-02   3732.770943  1.650311e+07      4421.140870  \n",
      "2017-10-03   4103.764623  1.762867e+07      4295.732167  \n",
      "2017-10-04   2867.885591  1.215697e+07      4239.001260  \n",
      "2017-10-05   3312.386677  1.410208e+07      4257.377472  \n",
      "2017-10-06   2217.169413  9.684440e+06      4367.929679  \n",
      "2017-10-07   2876.119222  1.256848e+07      4369.943687  \n",
      "2017-10-08   4353.599717  1.978239e+07      4543.916362  \n",
      "2017-10-09   6065.642595  2.860017e+07      4715.110024  \n",
      "2017-10-10   4584.019416  2.214649e+07      4831.237231  \n",
      "2017-10-11   2373.603682  1.140186e+07      4803.608758  \n",
      "2017-10-12   8183.771091  4.250967e+07      5194.385966  \n",
      "2017-10-13  11638.276321  6.566269e+07      5641.959647  \n",
      "2017-10-14   3582.231370  2.043118e+07      5703.478066  \n",
      "2017-10-15   6600.634494  3.691414e+07      5592.513268  \n",
      "2017-10-16   5516.727762  3.134349e+07      5681.537263  \n",
      "2017-10-17   4799.397244  2.695895e+07      5617.153497  \n",
      "2017-10-19   3961.469680  2.237373e+07      5647.836101  \n",
      "2017-10-20   5368.227667  3.167111e+07      5899.733126  \n",
      "2017-10-21   5597.018538  3.391672e+07      6059.783124  \n",
      "2017-10-22   4998.381011  2.939766e+07      5881.435574  \n",
      "2017-10-23   6774.530673  3.926411e+07      5795.842012  \n",
      "2017-10-25   4282.428310  2.369591e+07      5533.287168  \n",
      "2017-10-26   4195.148062  2.449000e+07      5837.695177  \n",
      "2017-10-27   3102.751288  1.805447e+07      5818.857720  \n",
      "2017-10-28   1931.695050  1.107023e+07      5730.836504  \n",
      "2017-10-29   5545.154105  3.317674e+07      5983.014175  \n",
      "2017-10-30   2862.982148  1.754572e+07      6128.475819  \n",
      "2017-10-31   3829.373399  2.411846e+07      6298.277449  \n",
      "2017-11-01   4721.897152  3.082127e+07      6527.306388  \n",
      "2017-11-02  10748.349664  7.440179e+07      6922.159330  \n",
      "...                  ...           ...              ...  \n",
      "2017-11-10  13449.766337  9.082739e+07      6753.083426  \n",
      "2017-11-11  12817.548908  8.234972e+07      6424.763427  \n",
      "2017-11-12  28336.758949  1.700409e+08      6000.716945  \n",
      "2017-11-13  18072.319344  1.136491e+08      6288.574394  \n",
      "2017-11-14   6785.763522  4.431548e+07      6530.654291  \n",
      "2017-11-15   9572.663969  6.712821e+07      7012.490430  \n",
      "2017-11-16  11103.863067  8.362667e+07      7531.313214  \n",
      "2017-11-17   8946.190523  6.982431e+07      7804.921515  \n",
      "2017-11-18   5862.046776  4.481716e+07      7645.308905  \n",
      "2017-11-19   5244.926356  4.146213e+07      7905.188094  \n",
      "2017-11-20   4201.593710  3.428028e+07      8158.875739  \n",
      "2017-11-21   8320.613593  6.739400e+07      8099.642749  \n",
      "2017-11-22   4371.911811  3.587110e+07      8204.900224  \n",
      "2017-11-23   5505.679173  4.492607e+07      8159.951226  \n",
      "2017-11-24   5617.768014  4.564562e+07      8125.222599  \n",
      "2017-11-25   6589.407387  5.575375e+07      8461.117863  \n",
      "2017-11-26   7658.582138  6.911687e+07      9024.761071  \n",
      "2017-11-27   8362.805446  7.974310e+07      9535.448142  \n",
      "2017-11-28   6232.037644  6.124682e+07      9827.735174  \n",
      "2017-11-29  25162.035402  2.556944e+08     10161.911082  \n",
      "2017-11-30  14375.626593  1.390911e+08      9675.478906  \n",
      "2017-12-01   7561.240754  7.671578e+07     10145.924436  \n",
      "2017-12-02   6726.611229  7.345389e+07     10919.894558  \n",
      "2017-12-03  10502.680824  1.182656e+08     11260.520156  \n",
      "2017-12-04   5497.923299  6.213474e+07     11301.492212  \n",
      "2017-12-05   4869.061174  5.678390e+07     11662.187078  \n",
      "2017-12-06  11194.928898  1.412979e+08     12621.597626  \n",
      "2017-12-07  16534.348507  2.441697e+08     14767.421319  \n",
      "2017-12-08  14970.350924  2.304207e+08     15391.800332  \n",
      "2017-12-09   9153.268007  1.317163e+08     14390.081700  \n",
      "\n",
      "[67 rows x 7 columns]\n"
     ]
    },
    {
     "name": "stderr",
     "output_type": "stream",
     "text": [
      "C:\\Users\\admin\\AppData\\Local\\Programs\\Python\\Python36-32\\lib\\site-packages\\pandas\\core\\generic.py:3643: SettingWithCopyWarning:\n",
      "\n",
      "\n",
      "A value is trying to be set on a copy of a slice from a DataFrame.\n",
      "Try using .loc[row_indexer,col_indexer] = value instead\n",
      "\n",
      "See the caveats in the documentation: http://pandas.pydata.org/pandas-docs/stable/indexing.html#indexing-view-versus-copy\n",
      "\n"
     ]
    }
   ],
   "source": [
    "df = pd.read_csv('BitcoinUSD.csv')\n",
    "# Selects only the last 3 months\n",
    "df_DATE = df[df.date > '2017-10-01']\n",
    "df_DATE.date = pd.to_datetime(df_DATE.date)\n",
    "df_DATE.set_index('date', inplace=True)\n",
    "print(df_DATE)"
   ]
  },
  {
   "cell_type": "code",
   "execution_count": 11,
   "metadata": {},
   "outputs": [
    {
     "name": "stderr",
     "output_type": "stream",
     "text": [
      "C:\\Users\\admin\\AppData\\Local\\Programs\\Python\\Python36-32\\lib\\site-packages\\plotly\\tools.py:1422: UserWarning:\n",
      "\n",
      "plotly.tools.FigureFactory.create_ohlc is deprecated. Use plotly.figure_factory.create_ohlc\n",
      "\n"
     ]
    },
    {
     "data": {
      "text/html": [
       "<iframe id=\"igraph\" scrolling=\"no\" style=\"border:none;\" seamless=\"seamless\" src=\"https://plot.ly/~srikantj12/2.embed\" height=\"525px\" width=\"100%\"></iframe>"
      ],
      "text/plain": [
       "<plotly.tools.PlotlyDisplay object>"
      ]
     },
     "execution_count": 11,
     "metadata": {},
     "output_type": "execute_result"
    }
   ],
   "source": [
    "import plotly.plotly as py\n",
    "from plotly.tools import FigureFactory as FF\n",
    "from datetime import datetime\n",
    "\n",
    "\n",
    "\n",
    "fig = FF.create_ohlc(df_DATE.loc[:,'open'], df_DATE.loc[:,'high'], df_DATE.loc[:,'low'], df_DATE.loc[:,'close'], dates=df_DATE.index)\n",
    "\n",
    "fig['layout'].update({\n",
    "    'title': 'Bitcoin in late 2017 ',\n",
    "    'yaxis': {'title': 'Bitcoin in USD'}    \n",
    "    })\n",
    "    \n",
    "\n",
    "py.iplot(fig, filename='financeBTC-OHLC')\n"
   ]
  },
  {
   "cell_type": "markdown",
   "metadata": {},
   "source": [
    "### Candlestick Chart"
   ]
  },
  {
   "cell_type": "code",
   "execution_count": 12,
   "metadata": {
    "scrolled": true
   },
   "outputs": [
    {
     "data": {
      "text/html": [
       "<iframe id=\"igraph\" scrolling=\"no\" style=\"border:none;\" seamless=\"seamless\" src=\"https://plot.ly/~srikantj12/8.embed\" height=\"525px\" width=\"100%\"></iframe>"
      ],
      "text/plain": [
       "<plotly.tools.PlotlyDisplay object>"
      ]
     },
     "execution_count": 12,
     "metadata": {},
     "output_type": "execute_result"
    }
   ],
   "source": [
    "import plotly.plotly as py\n",
    "import plotly.graph_objs as go\n",
    "\n",
    "\n",
    "#df = CryptoData('USDT_BTC', 86400)\n",
    "\n",
    "trace = go.Candlestick(x=df.index,\n",
    "                       open=df.open,\n",
    "                       high=df.high,\n",
    "                       low=df.low,\n",
    "                       close=df.close)\n",
    "data = [trace]\n",
    "py.iplot(data, filename='Bitcoin_simple_candlestick')"
   ]
  },
  {
   "cell_type": "markdown",
   "metadata": {},
   "source": []
  },
  {
   "cell_type": "markdown",
   "metadata": {},
   "source": [
    "### Relative Strength"
   ]
  },
  {
   "cell_type": "code",
   "execution_count": 14,
   "metadata": {},
   "outputs": [
    {
     "data": {
      "text/html": [
       "<iframe id=\"igraph\" scrolling=\"no\" style=\"border:none;\" seamless=\"seamless\" src=\"https://plot.ly/~srikantj12/61.embed\" height=\"525px\" width=\"100%\"></iframe>"
      ],
      "text/plain": [
       "<plotly.tools.PlotlyDisplay object>"
      ]
     },
     "execution_count": 14,
     "metadata": {},
     "output_type": "execute_result"
    }
   ],
   "source": [
    "import cufflinks as cf\n",
    "import pandas as pd\n",
    "\n",
    "cf.set_config_file(world_readable=True,offline=False)\n",
    "df = pd.read_csv('BitcoinUSD.csv')\n",
    "# plot the rsi for closing values of bitcoin, period can be 14 or 21 days (commonly used)\n",
    "df['close'].ta_plot(study='rsi',periods=14,title='Relative Strength Index for Bitcoin')\n"
   ]
  },
  {
   "cell_type": "markdown",
   "metadata": {},
   "source": [
    "### Simple Moving Average "
   ]
  },
  {
   "cell_type": "code",
   "execution_count": 10,
   "metadata": {},
   "outputs": [
    {
     "data": {
      "text/html": [
       "<iframe id=\"igraph\" scrolling=\"no\" style=\"border:none;\" seamless=\"seamless\" src=\"https://plot.ly/~srikantj12/57.embed\" height=\"525px\" width=\"100%\"></iframe>"
      ],
      "text/plain": [
       "<plotly.tools.PlotlyDisplay object>"
      ]
     },
     "execution_count": 10,
     "metadata": {},
     "output_type": "execute_result"
    }
   ],
   "source": [
    "import cufflinks as cf\n",
    "df = pd.read_csv('BitcoinUSD.csv')\n",
    "qf=cf.QuantFig(df,title='Simple Moving Average Band for Bitcoin',legend='top',name='BTC',rangeslider=True)\n",
    "qf.add_sma([20,50],width=2,color=['green','lightgreen'],legendgroup=True)\n",
    "qf.iplot()"
   ]
  },
  {
   "cell_type": "markdown",
   "metadata": {},
   "source": [
    "### Bollinger Band "
   ]
  },
  {
   "cell_type": "code",
   "execution_count": 15,
   "metadata": {},
   "outputs": [
    {
     "data": {
      "text/html": [
       "<iframe id=\"igraph\" scrolling=\"no\" style=\"border:none;\" seamless=\"seamless\" src=\"https://plot.ly/~srikantj12/63.embed\" height=\"525px\" width=\"100%\"></iframe>"
      ],
      "text/plain": [
       "<plotly.tools.PlotlyDisplay object>"
      ]
     },
     "execution_count": 15,
     "metadata": {},
     "output_type": "execute_result"
    }
   ],
   "source": [
    "df = pd.read_csv('BitcoinUSD.csv') \n",
    "# qf = quant fig\n",
    "qf=cf.QuantFig(df,title='Bollinger Band for Bitcoin',legend='top',name='BTC', rangeslider=True,)\n",
    "qf.add_bollinger_bands()\n",
    "qf.iplot()"
   ]
  },
  {
   "cell_type": "code",
   "execution_count": null,
   "metadata": {},
   "outputs": [],
   "source": []
  }
 ],
 "metadata": {
  "kernelspec": {
   "display_name": "Python 3",
   "language": "python",
   "name": "python3"
  },
  "language_info": {
   "codemirror_mode": {
    "name": "ipython",
    "version": 3
   },
   "file_extension": ".py",
   "mimetype": "text/x-python",
   "name": "python",
   "nbconvert_exporter": "python",
   "pygments_lexer": "ipython3",
   "version": "3.6.3"
  }
 },
 "nbformat": 4,
 "nbformat_minor": 2
}
