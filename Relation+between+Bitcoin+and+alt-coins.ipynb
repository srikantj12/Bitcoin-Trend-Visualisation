{
 "cells": [
  {
   "cell_type": "code",
   "execution_count": 1,
   "metadata": {},
   "outputs": [
    {
     "name": "stdout",
     "output_type": "stream",
     "text": [
      "Using matplotlib backend: TkAgg\n",
      "Populating the interactive namespace from numpy and matplotlib\n"
     ]
    }
   ],
   "source": [
    "import pandas as pd\n",
    "import matplotlib.pyplot as plt\n",
    "import seaborn as sns\n",
    "%matplotlib inline\n",
    "%pylab"
   ]
  },
  {
   "cell_type": "markdown",
   "metadata": {},
   "source": [
    "### Cryptocurrency Data Function  "
   ]
  },
  {
   "cell_type": "code",
   "execution_count": 2,
   "metadata": {},
   "outputs": [],
   "source": [
    "def CryptoData(symbol, frequency):\n",
    "    #Params: String symbol, int frequency=300,900,1800,7200,14400,86400\n",
    "    #Returns: df from first available date\n",
    "    url = 'https://poloniex.com/public?command=returnChartData&currencyPair='+symbol+'&end=9999999999&period='+str(frequency)+'&start=0'\n",
    "   \n",
    "    df = pd.read_json(url)\n",
    "    df.set_index('date',inplace=True)\n",
    "    df.to_csv(symbol + '.csv') #write into csv file\n",
    "    print('Processed: ' + symbol)\n",
    "    return df"
   ]
  },
  {
   "cell_type": "markdown",
   "metadata": {},
   "source": [
    "### Looping through the crypcurrencies being traded on poloniex"
   ]
  },
  {
   "cell_type": "code",
   "execution_count": 3,
   "metadata": {},
   "outputs": [
    {
     "name": "stdout",
     "output_type": "stream",
     "text": [
      "Processed: USDT_BTC\n",
      "Processed: USDT_BCH\n",
      "Processed: USDT_ETC\n",
      "Processed: USDT_XMR\n",
      "Processed: USDT_ETH\n",
      "Processed: USDT_DASH\n",
      "Processed: USDT_XRP\n",
      "Processed: USDT_LTC\n",
      "Processed: USDT_NXT\n",
      "Processed: USDT_STR\n",
      "Processed: USDT_REP\n",
      "Processed: USDT_ZEC\n"
     ]
    }
   ],
   "source": [
    "tickers = ['USDT_BTC','USDT_BCH','USDT_ETC','USDT_XMR','USDT_ETH','USDT_DASH',\n",
    " 'USDT_XRP','USDT_LTC','USDT_NXT','USDT_STR','USDT_REP','USDT_ZEC']  # Top 10 currencies currently\n",
    "for ticker in tickers:\n",
    "    CryptoData(ticker, 86400) ['close'] #iterate over all symbols and get csv for each symbol\n",
    "\n"
   ]
  },
  {
   "cell_type": "code",
   "execution_count": 4,
   "metadata": {},
   "outputs": [],
   "source": [
    "crypto_df = pd.DataFrame() #create a dataframe to read the csv data\n",
    "for ticker in tickers:\n",
    "    crypto_df[ticker] = pd.read_csv(ticker+'.csv', index_col = 'date') ['close']\n",
    "    # Above reads each csv data and each row is associated to that csv file \n",
    "    #'date' is the column which is used as rows for the dataframe \n",
    "    #so that the data is more understandable\n",
    "    \n",
    "    # Removes the null values\n",
    "    crypto_df.dropna(inplace=True)\n",
    "    \n",
    "    \n"
   ]
  },
  {
   "cell_type": "code",
   "execution_count": 5,
   "metadata": {},
   "outputs": [
    {
     "data": {
      "text/html": [
       "<div>\n",
       "<style scoped>\n",
       "    .dataframe tbody tr th:only-of-type {\n",
       "        vertical-align: middle;\n",
       "    }\n",
       "\n",
       "    .dataframe tbody tr th {\n",
       "        vertical-align: top;\n",
       "    }\n",
       "\n",
       "    .dataframe thead th {\n",
       "        text-align: right;\n",
       "    }\n",
       "</style>\n",
       "<table border=\"1\" class=\"dataframe\">\n",
       "  <thead>\n",
       "    <tr style=\"text-align: right;\">\n",
       "      <th></th>\n",
       "      <th>USDT_BTC</th>\n",
       "      <th>USDT_BCH</th>\n",
       "      <th>USDT_ETC</th>\n",
       "      <th>USDT_XMR</th>\n",
       "      <th>USDT_ETH</th>\n",
       "      <th>USDT_DASH</th>\n",
       "      <th>USDT_XRP</th>\n",
       "      <th>USDT_LTC</th>\n",
       "      <th>USDT_NXT</th>\n",
       "      <th>USDT_STR</th>\n",
       "      <th>USDT_REP</th>\n",
       "      <th>USDT_ZEC</th>\n",
       "    </tr>\n",
       "    <tr>\n",
       "      <th>date</th>\n",
       "      <th></th>\n",
       "      <th></th>\n",
       "      <th></th>\n",
       "      <th></th>\n",
       "      <th></th>\n",
       "      <th></th>\n",
       "      <th></th>\n",
       "      <th></th>\n",
       "      <th></th>\n",
       "      <th></th>\n",
       "      <th></th>\n",
       "      <th></th>\n",
       "    </tr>\n",
       "  </thead>\n",
       "  <tbody>\n",
       "    <tr>\n",
       "      <th>2017-08-14</th>\n",
       "      <td>4186.0</td>\n",
       "      <td>304.950000</td>\n",
       "      <td>14.120005</td>\n",
       "      <td>48.645500</td>\n",
       "      <td>304.000000</td>\n",
       "      <td>201.677622</td>\n",
       "      <td>0.169565</td>\n",
       "      <td>45.470000</td>\n",
       "      <td>0.110000</td>\n",
       "      <td>0.018201</td>\n",
       "      <td>20.200006</td>\n",
       "      <td>209.391251</td>\n",
       "    </tr>\n",
       "    <tr>\n",
       "      <th>2017-08-15</th>\n",
       "      <td>4149.0</td>\n",
       "      <td>297.900000</td>\n",
       "      <td>13.441999</td>\n",
       "      <td>48.711894</td>\n",
       "      <td>285.470233</td>\n",
       "      <td>202.731759</td>\n",
       "      <td>0.157996</td>\n",
       "      <td>42.793897</td>\n",
       "      <td>0.109193</td>\n",
       "      <td>0.017380</td>\n",
       "      <td>21.213522</td>\n",
       "      <td>212.107997</td>\n",
       "    </tr>\n",
       "    <tr>\n",
       "      <th>2017-08-16</th>\n",
       "      <td>4381.0</td>\n",
       "      <td>299.154002</td>\n",
       "      <td>14.142925</td>\n",
       "      <td>48.600300</td>\n",
       "      <td>302.099090</td>\n",
       "      <td>231.564000</td>\n",
       "      <td>0.160759</td>\n",
       "      <td>43.859363</td>\n",
       "      <td>0.109399</td>\n",
       "      <td>0.017738</td>\n",
       "      <td>21.490000</td>\n",
       "      <td>216.610000</td>\n",
       "    </tr>\n",
       "    <tr>\n",
       "      <th>2017-08-17</th>\n",
       "      <td>4262.0</td>\n",
       "      <td>445.100000</td>\n",
       "      <td>13.908999</td>\n",
       "      <td>47.200000</td>\n",
       "      <td>300.010000</td>\n",
       "      <td>234.500000</td>\n",
       "      <td>0.158000</td>\n",
       "      <td>43.628844</td>\n",
       "      <td>0.108967</td>\n",
       "      <td>0.017295</td>\n",
       "      <td>19.874176</td>\n",
       "      <td>208.141000</td>\n",
       "    </tr>\n",
       "    <tr>\n",
       "      <th>2017-08-18</th>\n",
       "      <td>4090.0</td>\n",
       "      <td>694.000000</td>\n",
       "      <td>13.446596</td>\n",
       "      <td>46.460000</td>\n",
       "      <td>291.899859</td>\n",
       "      <td>222.090233</td>\n",
       "      <td>0.156957</td>\n",
       "      <td>46.489850</td>\n",
       "      <td>0.101130</td>\n",
       "      <td>0.016714</td>\n",
       "      <td>18.950000</td>\n",
       "      <td>199.208000</td>\n",
       "    </tr>\n",
       "  </tbody>\n",
       "</table>\n",
       "</div>"
      ],
      "text/plain": [
       "            USDT_BTC    USDT_BCH   USDT_ETC   USDT_XMR    USDT_ETH  \\\n",
       "date                                                                 \n",
       "2017-08-14    4186.0  304.950000  14.120005  48.645500  304.000000   \n",
       "2017-08-15    4149.0  297.900000  13.441999  48.711894  285.470233   \n",
       "2017-08-16    4381.0  299.154002  14.142925  48.600300  302.099090   \n",
       "2017-08-17    4262.0  445.100000  13.908999  47.200000  300.010000   \n",
       "2017-08-18    4090.0  694.000000  13.446596  46.460000  291.899859   \n",
       "\n",
       "             USDT_DASH  USDT_XRP   USDT_LTC  USDT_NXT  USDT_STR   USDT_REP  \\\n",
       "date                                                                         \n",
       "2017-08-14  201.677622  0.169565  45.470000  0.110000  0.018201  20.200006   \n",
       "2017-08-15  202.731759  0.157996  42.793897  0.109193  0.017380  21.213522   \n",
       "2017-08-16  231.564000  0.160759  43.859363  0.109399  0.017738  21.490000   \n",
       "2017-08-17  234.500000  0.158000  43.628844  0.108967  0.017295  19.874176   \n",
       "2017-08-18  222.090233  0.156957  46.489850  0.101130  0.016714  18.950000   \n",
       "\n",
       "              USDT_ZEC  \n",
       "date                    \n",
       "2017-08-14  209.391251  \n",
       "2017-08-15  212.107997  \n",
       "2017-08-16  216.610000  \n",
       "2017-08-17  208.141000  \n",
       "2017-08-18  199.208000  "
      ]
     },
     "execution_count": 5,
     "metadata": {},
     "output_type": "execute_result"
    }
   ],
   "source": [
    "crypto_df.head()\n"
   ]
  },
  {
   "cell_type": "code",
   "execution_count": 6,
   "metadata": {},
   "outputs": [],
   "source": [
    "crypto_df_norm = crypto_df.divide(crypto_df.iloc[0])\n",
    "#To check for percentage change we divide every row by the first row\n",
    "#so first row will be 1 and remaining rows will be the % change (gains or losses)"
   ]
  },
  {
   "cell_type": "code",
   "execution_count": 7,
   "metadata": {},
   "outputs": [
    {
     "data": {
      "text/plain": [
       "<matplotlib.axes._subplots.AxesSubplot at 0x10b53c90>"
      ]
     },
     "execution_count": 7,
     "metadata": {},
     "output_type": "execute_result"
    }
   ],
   "source": [
    "\n",
    "crypto_df_norm.plot(legend = True)\n",
    "#labels the chart as well\n"
   ]
  },
  {
   "cell_type": "code",
   "execution_count": 8,
   "metadata": {},
   "outputs": [
    {
     "data": {
      "text/html": [
       "<iframe id=\"igraph\" scrolling=\"no\" style=\"border:none;\" seamless=\"seamless\" src=\"https://plot.ly/~srikantj12/49.embed\" height=\"525px\" width=\"100%\"></iframe>"
      ],
      "text/plain": [
       "<plotly.tools.PlotlyDisplay object>"
      ]
     },
     "execution_count": 8,
     "metadata": {},
     "output_type": "execute_result"
    }
   ],
   "source": [
    "import plotly.plotly as py\n",
    "import plotly.graph_objs as go\n",
    "\n",
    "# Create a trace\n",
    "trace1 = go.Scatter(\n",
    "    x = crypto_df_norm.index,\n",
    "    y = crypto_df_norm['USDT_BTC']\n",
    ")\n",
    "\n",
    "trace2 = go.Scatter(\n",
    "    x = crypto_df_norm.index,\n",
    "    y = crypto_df_norm['USDT_BCH']\n",
    ")\n",
    "\n",
    "data = [trace1, trace2]\n",
    "\n",
    "py.iplot(data, filename='Bitcoin Closing Prices')"
   ]
  },
  {
   "cell_type": "code",
   "execution_count": 8,
   "metadata": {},
   "outputs": [],
   "source": [
    "crypto_df_pct = crypto_df.pct_change().dropna() #Storing percentage returns which is used for analysis\n",
    "corr = crypto_df_pct.corr() #correlation matrix is obtained with .corr()"
   ]
  },
  {
   "cell_type": "code",
   "execution_count": 9,
   "metadata": {},
   "outputs": [
    {
     "data": {
      "text/plain": [
       "<matplotlib.axes._subplots.AxesSubplot at 0x109dd330>"
      ]
     },
     "execution_count": 9,
     "metadata": {},
     "output_type": "execute_result"
    }
   ],
   "source": [
    "sns.heatmap(corr, \n",
    "           xticklabels=corr.columns.values,\n",
    "           yticklabels=corr.columns.values)"
   ]
  },
  {
   "cell_type": "code",
   "execution_count": 10,
   "metadata": {},
   "outputs": [
    {
     "name": "stdout",
     "output_type": "stream",
     "text": [
      "           USDT_BTC  USDT_ETC  USDT_XMR  USDT_ETH  USDT_DASH  USDT_XRP  \\\n",
      "USDT_BTC   1.000000  0.384589  0.410578  0.380071   0.361116  0.160271   \n",
      "USDT_ETC   0.384589  1.000000  0.321611  0.525998   0.295468  0.083979   \n",
      "USDT_XMR   0.410578  0.321611  1.000000  0.445474   0.471187  0.171226   \n",
      "USDT_ETH   0.380071  0.525998  0.445474  1.000000   0.367724  0.099279   \n",
      "USDT_DASH  0.361116  0.295468  0.471187  0.367724   1.000000 -0.002635   \n",
      "USDT_XRP   0.160271  0.083979  0.171226  0.099279  -0.002635  1.000000   \n",
      "USDT_LTC   0.437430  0.441395  0.342304  0.273827   0.253061  0.240899   \n",
      "USDT_NXT   0.372641  0.308671  0.291730  0.286475   0.240601  0.244204   \n",
      "USDT_STR   0.202016  0.192719  0.305992  0.218493   0.131499  0.459413   \n",
      "USDT_REP   0.410908  0.447768  0.559355  0.519817   0.397172  0.171041   \n",
      "USDT_ZEC   0.185390  0.196941  0.215515  0.241661   0.248437  0.076371   \n",
      "\n",
      "           USDT_LTC  USDT_NXT  USDT_STR  USDT_REP  USDT_ZEC  \n",
      "USDT_BTC   0.437430  0.372641  0.202016  0.410908  0.185390  \n",
      "USDT_ETC   0.441395  0.308671  0.192719  0.447768  0.196941  \n",
      "USDT_XMR   0.342304  0.291730  0.305992  0.559355  0.215515  \n",
      "USDT_ETH   0.273827  0.286475  0.218493  0.519817  0.241661  \n",
      "USDT_DASH  0.253061  0.240601  0.131499  0.397172  0.248437  \n",
      "USDT_XRP   0.240899  0.244204  0.459413  0.171041  0.076371  \n",
      "USDT_LTC   1.000000  0.281541  0.252910  0.350470  0.149459  \n",
      "USDT_NXT   0.281541  1.000000  0.326084  0.358617  0.115621  \n",
      "USDT_STR   0.252910  0.326084  1.000000  0.246864  0.079043  \n",
      "USDT_REP   0.350470  0.358617  0.246864  1.000000  0.228098  \n",
      "USDT_ZEC   0.149459  0.115621  0.079043  0.228098  1.000000  \n"
     ]
    }
   ],
   "source": [
    "corr['USDT_XMR']['USDT_DASH'] \n",
    "print(corr)"
   ]
  },
  {
   "cell_type": "code",
   "execution_count": 11,
   "metadata": {},
   "outputs": [
    {
     "data": {
      "text/plain": [
       "Text(-17.75,0.5,'USDT_XMR % Return')"
      ]
     },
     "execution_count": 11,
     "metadata": {},
     "output_type": "execute_result"
    }
   ],
   "source": [
    "plt.scatter(crypto_df_pct['USDT_DASH'],crypto_df_pct['USDT_XMR'])\n",
    "plt.xlabel('USDT_DASH % Return')\n",
    "plt.ylabel('USDT_XMR % Return')"
   ]
  },
  {
   "cell_type": "code",
   "execution_count": 12,
   "metadata": {},
   "outputs": [],
   "source": [
    "import numpy\n",
    "from scipy import stats, integrate"
   ]
  },
  {
   "cell_type": "code",
   "execution_count": null,
   "metadata": {},
   "outputs": [],
   "source": []
  },
  {
   "cell_type": "code",
   "execution_count": null,
   "metadata": {
    "scrolled": true
   },
   "outputs": [],
   "source": []
  },
  {
   "cell_type": "code",
   "execution_count": null,
   "metadata": {},
   "outputs": [],
   "source": []
  }
 ],
 "metadata": {
  "kernelspec": {
   "display_name": "Python 3",
   "language": "python",
   "name": "python3"
  },
  "language_info": {
   "codemirror_mode": {
    "name": "ipython",
    "version": 3
   },
   "file_extension": ".py",
   "mimetype": "text/x-python",
   "name": "python",
   "nbconvert_exporter": "python",
   "pygments_lexer": "ipython3",
   "version": "3.6.3"
  }
 },
 "nbformat": 4,
 "nbformat_minor": 2
}
